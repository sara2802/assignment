{
 "cells": [
  {
   "cell_type": "code",
   "execution_count": 2,
   "id": "effcbbf1",
   "metadata": {},
   "outputs": [
    {
     "name": "stdout",
     "output_type": "stream",
     "text": [
      "word:sara logan\n",
      "nagol aras"
     ]
    }
   ],
   "source": [
    "w = input(\"word:\")\n",
    "for i in range(len(w)-1,-1,-1):\n",
    "    print(w[i],end = \"\")"
   ]
  },
  {
   "cell_type": "code",
   "execution_count": null,
   "id": "5c5e537a",
   "metadata": {},
   "outputs": [],
   "source": []
  },
  {
   "cell_type": "code",
   "execution_count": null,
   "id": "7f6a790e",
   "metadata": {},
   "outputs": [],
   "source": []
  }
 ],
 "metadata": {
  "kernelspec": {
   "display_name": "Python 3 (ipykernel)",
   "language": "python",
   "name": "python3"
  },
  "language_info": {
   "codemirror_mode": {
    "name": "ipython",
    "version": 3
   },
   "file_extension": ".py",
   "mimetype": "text/x-python",
   "name": "python",
   "nbconvert_exporter": "python",
   "pygments_lexer": "ipython3",
   "version": "3.10.1"
  }
 },
 "nbformat": 4,
 "nbformat_minor": 5
}
